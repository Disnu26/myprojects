{
  "nbformat": 4,
  "nbformat_minor": 0,
  "metadata": {
    "colab": {
      "provenance": [],
      "authorship_tag": "ABX9TyN9NeOcd/WnGyUamvVsj8O0",
      "include_colab_link": true
    },
    "kernelspec": {
      "name": "python3",
      "display_name": "Python 3"
    },
    "language_info": {
      "name": "python"
    }
  },
  "cells": [
    {
      "cell_type": "markdown",
      "metadata": {
        "id": "view-in-github",
        "colab_type": "text"
      },
      "source": [
        "<a href=\"https://colab.research.google.com/github/Disnu26/myprojects/blob/main/Spotify_song_recommendation.ipynb\" target=\"_parent\"><img src=\"https://colab.research.google.com/assets/colab-badge.svg\" alt=\"Open In Colab\"/></a>"
      ]
    },
    {
      "cell_type": "code",
      "source": [
        "import pandas as pd\n",
        "import numpy as np\n",
        "from sklearn.preprocessing import LabelEncoder, MinMaxScaler\n",
        "import tensorflow as tf\n",
        "from tensorflow import keras\n",
        "from tensorflow.keras.models import Sequential\n",
        "from tensorflow.keras.layers import Dense, Embedding, Flatten\n",
        "\n",
        "\n",
        "file_path = \"/content/generated_music_dataset.csv\"\n",
        "df = pd.read_csv(file_path)\n",
        "\n",
        "print(\"Columns in dataset:\", df.columns)\n",
        "\n",
        "df['listen_timestamp'] = pd.to_datetime(df['listen_timestamp'], errors='coerce')\n",
        "\n",
        "df.fillna(0, inplace=True)\n",
        "\n",
        "le_user = LabelEncoder()\n",
        "le_song = LabelEncoder()\n",
        "le_artist = LabelEncoder()\n",
        "le_genre = LabelEncoder()\n",
        "\n",
        "df['user_id'] = le_user.fit_transform(df['user_id'])\n",
        "df['song_id'] = le_song.fit_transform(df['song_id'])\n",
        "df['artist_id'] = le_artist.fit_transform(df['artist_id'])\n",
        "df['genre'] = le_genre.fit_transform(df['genre'])\n",
        "\n",
        "scaler = MinMaxScaler()\n",
        "df[['listen_count', 'added_to_playlist']] = scaler.fit_transform(df[['listen_count', 'added_to_playlist']])\n",
        "\n",
        "features = ['user_id', 'song_id', 'artist_id', 'genre', 'listen_count', 'added_to_playlist']\n",
        "target = 'listen_count'\n",
        "\n",
        "X = df[features]\n",
        "y = df[target]\n",
        "\n",
        "from sklearn.model_selection import train_test_split\n",
        "X_train, X_test, y_train, y_test = train_test_split(X, y, test_size=0.2, random_state=42)\n",
        "\n",
        "model = Sequential([\n",
        "    Dense(64, activation='relu', input_shape=(len(features),)),\n",
        "    Dense(32, activation='relu'),\n",
        "    Dense(16, activation='relu'),\n",
        "    Dense(1, activation='linear')  # Predict listen count\n",
        "])\n",
        "\n",
        "# Compile model\n",
        "model.compile(optimizer='adam', loss='mse', metrics=['mae'])\n",
        "\n",
        "# Train model\n",
        "model.fit(X_train, y_train, epochs=20, batch_size=32, validation_data=(X_test, y_test))\n",
        "\n",
        "# Function to get top 3 songs for a given user\n",
        "def get_top_songs(user_id, df, model, le_song):\n",
        "    user_data = df[df['user_id'] == le_user.transform([user_id])[0]]\n",
        "    X_user = user_data[features]\n",
        "    predicted_scores = model.predict(X_user).flatten()\n",
        "\n",
        "    user_data = user_data.copy()\n",
        "    user_data['predicted_score'] = predicted_scores\n",
        "\n",
        "    # Get top 3 songs\n",
        "    top_songs = user_data.sort_values(by='predicted_score', ascending=False).head(3)\n",
        "\n",
        "    top_songs_list = top_songs['song'].values  # Use actual song names\n",
        "\n",
        "    return top_songs_list\n",
        "\n",
        "# Example: Get top 3 songs for user 101\n",
        "top_songs = get_top_songs(103, df, model, le_song)\n",
        "print(\"Top 3 recommended songs for user 101:\", top_songs)"
      ],
      "metadata": {
        "colab": {
          "base_uri": "https://localhost:8080/"
        },
        "id": "doKhcgQdHvZO",
        "outputId": "df4e3645-2c47-43a7-9798-614039793c22"
      },
      "execution_count": 11,
      "outputs": [
        {
          "output_type": "stream",
          "name": "stdout",
          "text": [
            "Columns in dataset: Index(['user_id', 'song_id', 'artist_id', 'genre', 'listen_count',\n",
            "       'repeat_play', 'skip_flag', 'liked', 'added_to_playlist',\n",
            "       'listen_timestamp', 'song'],\n",
            "      dtype='object')\n",
            "Epoch 1/20\n"
          ]
        },
        {
          "output_type": "stream",
          "name": "stderr",
          "text": [
            "/usr/local/lib/python3.11/dist-packages/keras/src/layers/core/dense.py:87: UserWarning: Do not pass an `input_shape`/`input_dim` argument to a layer. When using Sequential models, prefer using an `Input(shape)` object as the first layer in the model instead.\n",
            "  super().__init__(activity_regularizer=activity_regularizer, **kwargs)\n"
          ]
        },
        {
          "output_type": "stream",
          "name": "stdout",
          "text": [
            "\u001b[1m13/13\u001b[0m \u001b[32m━━━━━━━━━━━━━━━━━━━━\u001b[0m\u001b[37m\u001b[0m \u001b[1m2s\u001b[0m 23ms/step - loss: 156.8403 - mae: 9.7244 - val_loss: 25.8951 - val_mae: 4.3346\n",
            "Epoch 2/20\n",
            "\u001b[1m13/13\u001b[0m \u001b[32m━━━━━━━━━━━━━━━━━━━━\u001b[0m\u001b[37m\u001b[0m \u001b[1m0s\u001b[0m 8ms/step - loss: 13.8352 - mae: 3.0269 - val_loss: 5.3929 - val_mae: 1.6622\n",
            "Epoch 3/20\n",
            "\u001b[1m13/13\u001b[0m \u001b[32m━━━━━━━━━━━━━━━━━━━━\u001b[0m\u001b[37m\u001b[0m \u001b[1m0s\u001b[0m 8ms/step - loss: 3.8831 - mae: 1.4723 - val_loss: 0.6938 - val_mae: 0.6381\n",
            "Epoch 4/20\n",
            "\u001b[1m13/13\u001b[0m \u001b[32m━━━━━━━━━━━━━━━━━━━━\u001b[0m\u001b[37m\u001b[0m \u001b[1m0s\u001b[0m 8ms/step - loss: 1.1004 - mae: 0.8082 - val_loss: 0.5494 - val_mae: 0.5596\n",
            "Epoch 5/20\n",
            "\u001b[1m13/13\u001b[0m \u001b[32m━━━━━━━━━━━━━━━━━━━━\u001b[0m\u001b[37m\u001b[0m \u001b[1m0s\u001b[0m 14ms/step - loss: 0.6112 - mae: 0.6092 - val_loss: 0.4008 - val_mae: 0.4849\n",
            "Epoch 6/20\n",
            "\u001b[1m13/13\u001b[0m \u001b[32m━━━━━━━━━━━━━━━━━━━━\u001b[0m\u001b[37m\u001b[0m \u001b[1m0s\u001b[0m 15ms/step - loss: 0.4794 - mae: 0.5552 - val_loss: 0.3540 - val_mae: 0.4601\n",
            "Epoch 7/20\n",
            "\u001b[1m13/13\u001b[0m \u001b[32m━━━━━━━━━━━━━━━━━━━━\u001b[0m\u001b[37m\u001b[0m \u001b[1m0s\u001b[0m 15ms/step - loss: 0.4708 - mae: 0.5380 - val_loss: 0.3654 - val_mae: 0.4926\n",
            "Epoch 8/20\n",
            "\u001b[1m13/13\u001b[0m \u001b[32m━━━━━━━━━━━━━━━━━━━━\u001b[0m\u001b[37m\u001b[0m \u001b[1m0s\u001b[0m 13ms/step - loss: 0.3805 - mae: 0.4941 - val_loss: 0.2350 - val_mae: 0.3723\n",
            "Epoch 9/20\n",
            "\u001b[1m13/13\u001b[0m \u001b[32m━━━━━━━━━━━━━━━━━━━━\u001b[0m\u001b[37m\u001b[0m \u001b[1m1s\u001b[0m 79ms/step - loss: 0.2654 - mae: 0.4157 - val_loss: 0.2195 - val_mae: 0.3589\n",
            "Epoch 10/20\n",
            "\u001b[1m13/13\u001b[0m \u001b[32m━━━━━━━━━━━━━━━━━━━━\u001b[0m\u001b[37m\u001b[0m \u001b[1m0s\u001b[0m 9ms/step - loss: 0.2423 - mae: 0.3957 - val_loss: 0.2873 - val_mae: 0.4374\n",
            "Epoch 11/20\n",
            "\u001b[1m13/13\u001b[0m \u001b[32m━━━━━━━━━━━━━━━━━━━━\u001b[0m\u001b[37m\u001b[0m \u001b[1m0s\u001b[0m 9ms/step - loss: 0.2995 - mae: 0.4387 - val_loss: 0.2149 - val_mae: 0.3493\n",
            "Epoch 12/20\n",
            "\u001b[1m13/13\u001b[0m \u001b[32m━━━━━━━━━━━━━━━━━━━━\u001b[0m\u001b[37m\u001b[0m \u001b[1m0s\u001b[0m 9ms/step - loss: 0.2588 - mae: 0.4131 - val_loss: 0.1847 - val_mae: 0.3390\n",
            "Epoch 13/20\n",
            "\u001b[1m13/13\u001b[0m \u001b[32m━━━━━━━━━━━━━━━━━━━━\u001b[0m\u001b[37m\u001b[0m \u001b[1m0s\u001b[0m 10ms/step - loss: 0.2041 - mae: 0.3560 - val_loss: 0.1619 - val_mae: 0.3123\n",
            "Epoch 14/20\n",
            "\u001b[1m13/13\u001b[0m \u001b[32m━━━━━━━━━━━━━━━━━━━━\u001b[0m\u001b[37m\u001b[0m \u001b[1m0s\u001b[0m 9ms/step - loss: 0.1716 - mae: 0.3352 - val_loss: 0.1639 - val_mae: 0.3119\n",
            "Epoch 15/20\n",
            "\u001b[1m13/13\u001b[0m \u001b[32m━━━━━━━━━━━━━━━━━━━━\u001b[0m\u001b[37m\u001b[0m \u001b[1m0s\u001b[0m 9ms/step - loss: 0.1627 - mae: 0.3273 - val_loss: 0.1558 - val_mae: 0.3035\n",
            "Epoch 16/20\n",
            "\u001b[1m13/13\u001b[0m \u001b[32m━━━━━━━━━━━━━━━━━━━━\u001b[0m\u001b[37m\u001b[0m \u001b[1m0s\u001b[0m 9ms/step - loss: 0.1678 - mae: 0.3346 - val_loss: 0.2008 - val_mae: 0.3605\n",
            "Epoch 17/20\n",
            "\u001b[1m13/13\u001b[0m \u001b[32m━━━━━━━━━━━━━━━━━━━━\u001b[0m\u001b[37m\u001b[0m \u001b[1m0s\u001b[0m 10ms/step - loss: 0.1818 - mae: 0.3475 - val_loss: 0.1828 - val_mae: 0.3337\n",
            "Epoch 18/20\n",
            "\u001b[1m13/13\u001b[0m \u001b[32m━━━━━━━━━━━━━━━━━━━━\u001b[0m\u001b[37m\u001b[0m \u001b[1m0s\u001b[0m 9ms/step - loss: 0.1605 - mae: 0.3281 - val_loss: 0.1478 - val_mae: 0.2923\n",
            "Epoch 19/20\n",
            "\u001b[1m13/13\u001b[0m \u001b[32m━━━━━━━━━━━━━━━━━━━━\u001b[0m\u001b[37m\u001b[0m \u001b[1m0s\u001b[0m 9ms/step - loss: 0.1563 - mae: 0.3190 - val_loss: 0.1495 - val_mae: 0.3125\n",
            "Epoch 20/20\n",
            "\u001b[1m13/13\u001b[0m \u001b[32m━━━━━━━━━━━━━━━━━━━━\u001b[0m\u001b[37m\u001b[0m \u001b[1m0s\u001b[0m 10ms/step - loss: 0.1336 - mae: 0.2900 - val_loss: 0.1657 - val_mae: 0.3193\n",
            "\u001b[1m1/1\u001b[0m \u001b[32m━━━━━━━━━━━━━━━━━━━━\u001b[0m\u001b[37m\u001b[0m \u001b[1m0s\u001b[0m 97ms/step\n",
            "Top 3 recommended songs for user 101: ['Somebody That I Used to Know' 'Hound Dog' 'Yesterday']\n"
          ]
        }
      ]
    }
  ]
}